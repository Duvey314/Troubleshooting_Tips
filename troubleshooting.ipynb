{
 "metadata": {
  "language_info": {
   "codemirror_mode": {
    "name": "ipython",
    "version": 3
   },
   "file_extension": ".py",
   "mimetype": "text/x-python",
   "name": "python",
   "nbconvert_exporter": "python",
   "pygments_lexer": "ipython3",
   "version": "3.7.7"
  },
  "orig_nbformat": 2,
  "kernelspec": {
   "name": "python377jvsc74a57bd0afc7c4a812fa55c0db985e1c504d2cd5747faf27fd01c3486b2fd8146566cace",
   "display_name": "Python 3.7.7 64-bit ('PythonData': conda)"
  }
 },
 "nbformat": 4,
 "nbformat_minor": 2,
 "cells": [
  {
   "source": [
    "# Troubleshooting Workshop\n",
    "Hey Everyone, here is a small worksheet to give some pointers into how to troubleshoot code.\n",
    "\n",
    "This is designed around python but many of the techniques can be generalized."
   ],
   "cell_type": "markdown",
   "metadata": {}
  },
  {
   "source": [
    "# Common Error Types\n",
    "* Syntax Error - produced by Python when it is translating the source code into byte code.\n",
    "\n",
    "* Index Error - The IndexError is thrown when trying to access an item at an invalid index.\n",
    "\n",
    "* Key Error - The KeyError is thrown when a key is not found.\n",
    "\n",
    "* Type Error - The TypeError is thrown when an operation or function is applied to an object of an inappropriate type.\n",
    "\n",
    "* Value Error - The ValueError is thrown when a function's argument is of an inappropriate type.\n",
    "\n",
    "* Name Error - The NameError is thrown when an object could not be found.\n"
   ],
   "cell_type": "markdown",
   "metadata": {}
  },
  {
   "cell_type": "code",
   "execution_count": 1,
   "metadata": {},
   "outputs": [
    {
     "output_type": "error",
     "ename": "SyntaxError",
     "evalue": "Missing parentheses in call to 'print'. Did you mean print(\"hello\")? (<ipython-input-1-2765ffa223fe>, line 2)",
     "traceback": [
      "\u001b[1;36m  File \u001b[1;32m\"<ipython-input-1-2765ffa223fe>\"\u001b[1;36m, line \u001b[1;32m2\u001b[0m\n\u001b[1;33m    print \"hello\"\u001b[0m\n\u001b[1;37m                ^\u001b[0m\n\u001b[1;31mSyntaxError\u001b[0m\u001b[1;31m:\u001b[0m Missing parentheses in call to 'print'. Did you mean print(\"hello\")?\n"
     ]
    }
   ],
   "source": [
    "# Syntax Error\n",
    "print \"hello\""
   ]
  },
  {
   "cell_type": "code",
   "execution_count": null,
   "metadata": {},
   "outputs": [],
   "source": [
    "# Indentation Error\n",
    " print('Hello World')"
   ]
  },
  {
   "cell_type": "code",
   "execution_count": null,
   "metadata": {},
   "outputs": [],
   "source": [
    "# Index Error\n",
    "example_list = [1,2,3]\n",
    "example_list[3]"
   ]
  },
  {
   "cell_type": "code",
   "execution_count": null,
   "metadata": {},
   "outputs": [],
   "source": [
    "# Key Error\n",
    "example_dict = {'1':\"aa\", '2':\"bb\", '3':\"cc\"}\n",
    "example_dict['4']"
   ]
  },
  {
   "cell_type": "code",
   "execution_count": null,
   "metadata": {},
   "outputs": [],
   "source": [
    "# Type Error\n",
    "two = '2'\n",
    "2 + two"
   ]
  },
  {
   "cell_type": "code",
   "execution_count": null,
   "metadata": {},
   "outputs": [],
   "source": [
    "# Value Error\n",
    "int('the number 5')"
   ]
  },
  {
   "cell_type": "code",
   "execution_count": null,
   "metadata": {},
   "outputs": [],
   "source": [
    "# Name Error\n",
    "previous_age = 4\n",
    "\n",
    "current_age = previous_age + time_difference\n"
   ]
  },
  {
   "source": [
    "# How to Read Error Messages\n",
    "\n",
    "A traceback is a report containing the function calls made in your code at a specific point. The final line of the traceback output tells you what type of exception was raised along with some relevant information about that exception. The previous lines of the traceback point out the code that resulted in the exception being raised.\n",
    "\n",
    "Read the traceback from bottom to top.\n",
    "\n",
    "https://realpython.com/python-traceback/\n"
   ],
   "cell_type": "markdown",
   "metadata": {}
  },
  {
   "cell_type": "code",
   "execution_count": null,
   "metadata": {},
   "outputs": [],
   "source": [
    "def dog_years( age: int,name = 'Reptar'):\n",
    "    \"\"\"\n",
    "    This is a doc string. If will give you information on you functions. This function converts a dogs ag into human years.\n",
    "    \"\"\"\n",
    "    # print(f\"{name} is {age} in dog years\")\n",
    "    \n",
    "    human_age = age + 7\n",
    "    human_age = 21\n",
    "\n",
    "    return(f\"{name} is {human_age} in human years\")\n",
    "\n"
   ]
  },
  {
   "cell_type": "code",
   "execution_count": 2,
   "metadata": {},
   "outputs": [
    {
     "output_type": "error",
     "ename": "NameError",
     "evalue": "name 'dog_years' is not defined",
     "traceback": [
      "\u001b[1;31m---------------------------------------------------------------------------\u001b[0m",
      "\u001b[1;31mNameError\u001b[0m                                 Traceback (most recent call last)",
      "\u001b[1;32m<ipython-input-2-72e24a3a887f>\u001b[0m in \u001b[0;36m<module>\u001b[1;34m\u001b[0m\n\u001b[0;32m      1\u001b[0m \u001b[1;31m# Non-Changin output\u001b[0m\u001b[1;33m\u001b[0m\u001b[1;33m\u001b[0m\u001b[1;33m\u001b[0m\u001b[0m\n\u001b[1;32m----> 2\u001b[1;33m \u001b[0mprint\u001b[0m\u001b[1;33m(\u001b[0m\u001b[0mdog_years\u001b[0m\u001b[1;33m(\u001b[0m\u001b[1;36m4\u001b[0m\u001b[1;33m,\u001b[0m \u001b[1;34m'Max'\u001b[0m\u001b[1;33m)\u001b[0m\u001b[1;33m)\u001b[0m\u001b[1;33m\u001b[0m\u001b[1;33m\u001b[0m\u001b[0m\n\u001b[0m",
      "\u001b[1;31mNameError\u001b[0m: name 'dog_years' is not defined"
     ]
    }
   ],
   "source": [
    "# Non-Changin output\n",
    "print(dog_years(4, 'Max'))"
   ]
  },
  {
   "cell_type": "code",
   "execution_count": null,
   "metadata": {},
   "outputs": [],
   "source": [
    "# Error in the function\n",
    "print(dog_years('Max', 4))"
   ]
  },
  {
   "source": [
    "# Handling Errors\n",
    "Try and except blocks allow you handle errors so that your code does not break when there is an error. You can expect errors and handle them accordingly."
   ],
   "cell_type": "markdown",
   "metadata": {}
  },
  {
   "cell_type": "code",
   "execution_count": 3,
   "metadata": {},
   "outputs": [
    {
     "output_type": "stream",
     "name": "stdout",
     "text": [
      "You selected 4\n"
     ]
    }
   ],
   "source": [
    "# identifying the error\n",
    "while True:\n",
    "    try:\n",
    "        x = int(input(\"Please enter a number: \"))\n",
    "        print('You selected ' + str(x))\n",
    "        break\n",
    "    except:\n",
    "        print(\"Oops!  That was no valid number.  Try again...\")\n",
    "        raise"
   ]
  },
  {
   "cell_type": "code",
   "execution_count": null,
   "metadata": {},
   "outputs": [],
   "source": [
    "# Can use error blocks for specific errors\n",
    "while True:\n",
    "    try:\n",
    "        x = int(input(\"Please enter a number: \"))\n",
    "        print('You selected ' + str(x))\n",
    "        break\n",
    "    except ValueError:\n",
    "        print(\"Oops!  That was no valid number.  Try again...\")\n",
    "    except:\n",
    "        print(\"Something even worse happened\")\n",
    "        raise"
   ]
  },
  {
   "source": [
    "# Use Google\n",
    "You can google the exact error by highlighting and pasting into google. This might not be your exact problem but can often point you in the right direction.\n",
    "\n",
    "# Look at the source code\n",
    "If the error is with a function from a library, look at the documentation for the library. Try and get an example working and then modify to suit your needs.\n",
    "\n",
    "# Test all of your assumtions (use print)\n",
    "Sometimes errors can come from assumtions that you make about you code. You might expect a value to fall within a certain range but maybe it is not what you think. Youe print statements and breakpoints to make sure values are what you think they are."
   ],
   "cell_type": "markdown",
   "metadata": {}
  },
  {
   "cell_type": "code",
   "execution_count": 9,
   "metadata": {},
   "outputs": [
    {
     "output_type": "stream",
     "name": "stdout",
     "text": [
      "5\n6\n7\nlion is 7\n"
     ]
    }
   ],
   "source": [
    "# Use print statements\n",
    "animal = 'lion'\n",
    "animal_age = 4\n",
    "\n",
    "for i in range(0,3):\n",
    "    animal_age += 1\n",
    "    print(animal_age)\n",
    "\n",
    "print(animal + ' is ' + str(animal_age))"
   ]
  },
  {
   "source": [
    "# Start Small and Add\n",
    "\n",
    "Start with the smallest piece of the function you can add add in the complexity."
   ],
   "cell_type": "markdown",
   "metadata": {}
  },
  {
   "source": [
    "# Resources\n",
    "\n",
    "https://blog.hartleybrody.com/debugging-code-beginner/\n",
    "\n",
    "https://www.tutorialsteacher.com/python/error-types-in-python\n",
    "\n",
    "https://www.dropbox.com/s/cqsxfws52gulkyx/drawing.pdf\n",
    "\n",
    "https://realpython.com/python-traceback/\n",
    "\n",
    "https://docs.python.org/3/tutorial/errors.html"
   ],
   "cell_type": "markdown",
   "metadata": {}
  }
 ]
}